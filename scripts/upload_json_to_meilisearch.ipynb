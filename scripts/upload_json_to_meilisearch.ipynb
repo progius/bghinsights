{
 "cells": [
  {
   "cell_type": "markdown",
   "metadata": {},
   "source": [
    "# PROCESSING PDFs IN AZURE CONTAINER BLOB STORAGE"
   ]
  },
  {
   "cell_type": "markdown",
   "metadata": {},
   "source": [
    "IMPORT NECESSARY MODULES"
   ]
  },
  {
   "cell_type": "code",
   "execution_count": null,
   "metadata": {},
   "outputs": [],
   "source": [
    "from adlfs import AzureBlobFileSystem\n",
    "from dotenv import load_dotenv\n",
    "import os\n",
    "import json\n",
    "import meilisearch\n",
    "\n",
    "import sys\n",
    "sys.path.append('C:/Users/lloyd/OneDrive/Documents/GitHub/bghinsights/bghinsights')\n",
    "\n",
    "# Import the modules from bghinsights\n",
    "from pdf_processor import process_pdf\n",
    "from text_analyzer import analyze_text_content\n",
    "from store_data import save_json_to_azure"
   ]
  },
  {
   "cell_type": "markdown",
   "metadata": {},
   "source": [
    "LOAD ENV VARIABLES FROM .ENV FILE"
   ]
  },
  {
   "cell_type": "code",
   "execution_count": null,
   "metadata": {},
   "outputs": [],
   "source": [
    "# Load environment variables from .env file\n",
    "load_dotenv()\n",
    "\n",
    "# Connect to Azure Blob Storage\n",
    "fs = AzureBlobFileSystem()\n",
    "\n",
    "# Define the container name\n",
    "container_name = os.getenv(\"AZURE_PDF_CONTAINER\")\n",
    "\n",
    "# Load Meilisearch client\n",
    "meilisearch_client = meilisearch.Client(os.getenv(\"MEILISEARCH_URL\"), os.getenv(\"MEILISEARCH_API_KEY\"))\n",
    "\n",
    "# Index the dataset in Meilisearch\n",
    "index = meilisearch_client.index(os.getenv(\"MEILISEARCH_INDEX_NAME\"))"
   ]
  },
  {
   "cell_type": "markdown",
   "metadata": {},
   "source": [
    "PROCESS PDF FILES AND SAVE THE EXTRACTED DATA TO AZURE BLOB STORAGE"
   ]
  },
  {
   "cell_type": "code",
   "execution_count": null,
   "metadata": {},
   "outputs": [],
   "source": [
    "# Initialize an empty list to store the extracted data from each PDF file\n",
    "all_data = []\n",
    "\n",
    "# Process PDF files and extract text\n",
    "for filename in fs.ls(container_name):\n",
    "    if filename.endswith(\".pdf\"):\n",
    "        print(f\"Processing file: {filename}\")\n",
    "        # Extract just the filename without the folder path\n",
    "        filename_only = os.path.basename(filename)\n",
    "        file_path = fs.open(filename)\n",
    "\n",
    "        # Extract text from the PDF file\n",
    "        text = process_pdf(file_path)\n",
    "        # Pass the extracted text to the analyze_text_content function\n",
    "        analyzed_content = analyze_text_content(text, filename=filename_only)\n",
    "        # You can perform additional processing or analysis here if needed\n",
    "        \n",
    "        # Append the analyzed content to the list\n",
    "        all_data.append(analyzed_content)\n",
    "\n",
    "# Save the extracted data to Azure Blob Storage\n",
    "save_json_to_azure(fs, container_name, all_data)"
   ]
  },
  {
   "cell_type": "markdown",
   "metadata": {},
   "source": [
    "LOAD DATA SET AND ADD DOCUMENTS TO MEILISEARCH INDEX"
   ]
  },
  {
   "cell_type": "code",
   "execution_count": null,
   "metadata": {},
   "outputs": [],
   "source": [
    "# Load the dataset from Azure Blob Storage\n",
    "dataset_path = f\"{container_name}/extracted_json/all_data.json\"\n",
    "with fs.open(dataset_path, 'rb') as json_file:\n",
    "    dataset = json.load(json_file)\n",
    "\n",
    "# Add the documents to the Meilisearch index\n",
    "index.add_documents(dataset)"
   ]
  },
  {
   "cell_type": "markdown",
   "metadata": {},
   "source": [
    "# PROCESSING PDF IN LOCAL ENV"
   ]
  },
  {
   "cell_type": "markdown",
   "metadata": {},
   "source": [
    "IMPORT NECESSARY MODULES"
   ]
  },
  {
   "cell_type": "code",
   "execution_count": 1,
   "metadata": {},
   "outputs": [],
   "source": [
    "import os\n",
    "import json\n",
    "import meilisearch\n",
    "\n",
    "import sys\n",
    "sys.path.append('C:/Users/lloyd/OneDrive/Documents/GitHub/bghinsights/bghinsights')\n",
    "\n",
    "# Import the modules from bghinsights\n",
    "from pdf_processor import process_pdf\n",
    "from text_analyzer import analyze_text_content\n",
    "from store_data import save_json_to_local"
   ]
  },
  {
   "cell_type": "markdown",
   "metadata": {},
   "source": [
    "LOAD ENV VARIABLES FROM .ENV"
   ]
  },
  {
   "cell_type": "code",
   "execution_count": 2,
   "metadata": {},
   "outputs": [],
   "source": [
    "# Load Meilisearch client\n",
    "meilisearch_client = meilisearch.Client(os.getenv(\"MEILISEARCH_URL\"), os.getenv(\"MEILISEARCH_API_KEY\"))\n",
    "\n",
    "# Index the dataset in Meilisearch\n",
    "index = meilisearch_client.index(os.getenv(\"MEILISEARCH_INDEX_NAME\"))"
   ]
  },
  {
   "cell_type": "markdown",
   "metadata": {},
   "source": [
    "PROCESS PDF FILES AND SAVE THE EXTRACTED DATA TO THE INPUT DIRECTORY PATH"
   ]
  },
  {
   "cell_type": "code",
   "execution_count": 3,
   "metadata": {},
   "outputs": [
    {
     "name": "stdout",
     "output_type": "stream",
     "text": [
      "Processing file: C:/Users/lloyd/OneDrive/Desktop/test\\anwz(brfg)__32-23.pdf\n",
      "Processing file: C:/Users/lloyd/OneDrive/Desktop/test\\enzr__27-20a.pdf\n",
      "Processing file: C:/Users/lloyd/OneDrive/Desktop/test\\gsz___1-04.pdf\n",
      "Processing file: C:/Users/lloyd/OneDrive/Desktop/test\\iv_zr__69-23.pdf\n",
      "Processing file: C:/Users/lloyd/OneDrive/Desktop/test\\ix_zr_210-99.pdf\n",
      "Processing file: C:/Users/lloyd/OneDrive/Desktop/test\\i_zr__24-23.pdf\n",
      "Processing file: C:/Users/lloyd/OneDrive/Desktop/test\\notz(brfg)___4-22b.pdf\n",
      "Processing file: C:/Users/lloyd/OneDrive/Desktop/test\\riz(r)___1-23.pdf\n",
      "Processing file: C:/Users/lloyd/OneDrive/Desktop/test\\vgs___1-16.pdf\n",
      "All data saved to C:/Users/lloyd/OneDrive/Desktop/test\\extracted_json/all_data.json\n"
     ]
    }
   ],
   "source": [
    "# Initialize an empty list to store the extracted data from each PDF file\n",
    "directory_path = \"C:/Users/lloyd/OneDrive/Desktop/test\"\n",
    "all_data = []\n",
    "\n",
    "# List files in the directory\n",
    "files_in_directory = os.listdir(directory_path)\n",
    "\n",
    "# Process PDF files and extract text\n",
    "for filename in files_in_directory:\n",
    "    if filename.endswith(\".pdf\"):\n",
    "        # Construct the full file path\n",
    "        file_path = os.path.join(directory_path, filename)\n",
    "        \n",
    "        print(f\"Processing file: {file_path}\")\n",
    "        \n",
    "        # Extract just the filename without the folder path\n",
    "        filename_only = os.path.basename(filename)\n",
    "        \n",
    "        # Extract text from the PDF file\n",
    "        text = process_pdf(file_path)\n",
    "        \n",
    "        # Pass the extracted text to the analyze_text_content function\n",
    "        analyzed_content = analyze_text_content(text, filename=filename_only)\n",
    "        \n",
    "        # Append the analyzed content to the list\n",
    "        all_data.append(analyzed_content)\n",
    "\n",
    "# Save the extracted data to a JSON file locally\n",
    "save_json_to_local(directory_path, all_data)"
   ]
  },
  {
   "cell_type": "markdown",
   "metadata": {},
   "source": [
    "LOAD DATA SET AND ADD DOCUMENTS TO MEILISEARCH INDEX"
   ]
  },
  {
   "cell_type": "code",
   "execution_count": null,
   "metadata": {},
   "outputs": [],
   "source": [
    "# Load the dataset from Azure Blob Storage\n",
    "dataset_path = f\"{directory_path}/extracted_json/all_data.json\"\n",
    "with fs.open(dataset_path, 'rb') as json_file:\n",
    "    dataset = json.load(json_file)\n",
    "\n",
    "# Add the documents to the Meilisearch index\n",
    "index.add_documents(dataset)"
   ]
  }
 ],
 "metadata": {
  "kernelspec": {
   "display_name": "Python 3",
   "language": "python",
   "name": "python3"
  },
  "language_info": {
   "codemirror_mode": {
    "name": "ipython",
    "version": 3
   },
   "file_extension": ".py",
   "mimetype": "text/x-python",
   "name": "python",
   "nbconvert_exporter": "python",
   "pygments_lexer": "ipython3",
   "version": "3.11.0"
  }
 },
 "nbformat": 4,
 "nbformat_minor": 2
}
