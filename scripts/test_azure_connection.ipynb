{
 "cells": [
  {
   "cell_type": "code",
   "execution_count": 12,
   "metadata": {},
   "outputs": [],
   "source": [
    "from adlfs import AzureBlobFileSystem\n",
    "from pdfminer.high_level import extract_text\n",
    "from dotenv import load_dotenv\n",
    "import os"
   ]
  },
  {
   "cell_type": "code",
   "execution_count": 14,
   "metadata": {},
   "outputs": [
    {
     "data": {
      "text/plain": [
       "True"
      ]
     },
     "execution_count": 14,
     "metadata": {},
     "output_type": "execute_result"
    }
   ],
   "source": [
    "load_dotenv()"
   ]
  },
  {
   "cell_type": "code",
   "execution_count": 7,
   "metadata": {},
   "outputs": [],
   "source": [
    "abfs = AzureBlobFileSystem()"
   ]
  },
  {
   "cell_type": "code",
   "execution_count": 15,
   "metadata": {},
   "outputs": [],
   "source": [
    "CONTAINER_NAME= os.environ['AZURE_PDF_CONTAINER']"
   ]
  },
  {
   "cell_type": "code",
   "execution_count": 18,
   "metadata": {},
   "outputs": [
    {
     "data": {
      "text/plain": [
       "'BUNDESGERICHTSHOF \\n\\n2 StR 341/23 \\n\\nBESCHLUSS \\n\\nvom \\n\\n14. Februar 2024 \\n\\nin der Strafsache \\n\\ngegen \\n\\nwegen Wohnungseinbruchdiebstahls u.a. \\n\\nECLI:DE:BGH:2024:140224B2STR341.23.0 \\n\\n \\n \\n \\n \\n \\n \\n \\n \\n \\n \\n \\n \\n\\x0c- 2 - \\n\\nDer 2. Strafsenat des Bundesgerichtshofs hat nach Anhörung des Beschwerde-\\n\\nführers, der Adhäsionsklägerin und des Generalbundesanwalts – zu Ziffer 1 a), \\n\\n1 b) bb) sowie Ziffer 2 auf dessen Antrag – am 14. Februar 2024 gemäß § 349 \\n\\nAbs. 2 und 4 und entsprechend § 354 Abs. 1 StPO beschlossen: \\n\\n1. Auf  die  Revision  des  Angeklagten  wird  das  Urteil  des  Landge-\\n\\nrichts Erfurt vom 12. April 2023  \\n\\na)  im  Schuldspruch  dahin  klargestellt,  dass  der  Angeklagte  im \\n\\nFall II. 6 der Urteilsgründe des schweren Wohnungseinbruch-\\n\\ndiebstahls in Tateinheit mit Sachbeschädigung schuldig ist, \\n\\nb) mit den Feststellungen aufgehoben,  \\n\\naa) im Maßregelausspruch sowie  \\n\\nbb) im Adhäsionsausspruch.  \\n\\nIm Umfang der Aufhebung wird die Sache zu neuer Verhandlung \\n\\nund Entscheidung, auch über die Kosten des Rechtsmittels und \\n\\ndie der Adhäsionsklägerin entstandenen besonderen Kosten, an \\n\\neine andere Strafkammer des Landgerichts zurückverwiesen. \\n\\n2. Die weitergehende Revision wird verworfen. \\n\\n \\n \\n \\n\\x0c- 3 - \\n\\nGründe: \\n\\n1 \\n\\nDas Landgericht hat den Angeklagten wegen „Privatwohnungseinbruchs-\\n\\ndiebstahls  in  Tateinheit  mit  Sachbeschädigung“  (Fall II. 6  der  Urteilsgründe), \\n\\nWohnungseinbruchsdiebstahls in Tateinheit mit Sachbeschädigung (Fall II. 7 der \\n\\nUrteilsgründe), Körperverletzung in Tateinheit mit tätlichem Angriff auf Vollstre-\\n\\nckungsbeamte (Fall II. 1 der Urteilsgründe), Diebstahls in zwei Fällen (Fälle II. 2 \\n\\nund  3  der  Urteilsgründe),  versuchten  Computerbetrugs  (Fall  II. 4  der  Urteils-\\n\\ngründe) sowie Sachbeschädigung (Fall II. 5 der Urteilsgründe) zu einer Gesamt-\\n\\nfreiheitsstrafe von drei Jahren und drei Monaten verurteilt und die Einziehung des \\n\\nWertes von Taterträgen in Höhe von 50 € angeordnet.  \\n\\nEs hat ihn vom Vorwurf der Beleidigung (Fall VI. 1 der Urteilsgründe) so-\\n\\nwie einer weiteren Körperverletzung (Fall VI. 2 der Urteilsgründe) wegen Schuld-\\n\\nunfähigkeit freigesprochen und ihn aufgrund der letzten Tat in einem psychiatri-\\n\\nschen Krankenhaus (§ 63 StGB) untergebracht. \\n\\nEs hat den Angeklagten ferner dem Grunde nach verpflichtet, der Adhäsi-\\n\\nonsklägerin den aus der am 11. März 2022 (Fall II. 5 der Urteilsgründe) entstan-\\n\\ndenen Schaden zu ersetzen und im Übrigen von einer Adhäsionsentscheidung \\n\\nabgesehen.  \\n\\nDie  auf  die  ausgeführte  Sachrüge  gestützte  Revision  des  Angeklagten \\n\\nführt  zur  Klarstellung  des  Schuldspruchs  sowie  zur  Aufhebung  des  Maßregel- \\n\\nund Adhäsionsausspruchs.  \\n\\n1. Im Fall II. 6 der Urteilsgründe ist die Strafkammer zutreffend davon aus-\\n\\ngegangen, dass der Einbruch in das dauerhaft genutzte Wohnhaus des Geschä-\\n\\ndigten den Qualifikationstatbestand des § 244 Abs. 4 StGB erfüllt. Diese Tat ist \\n\\nim Schuldspruch jedoch nicht als „Privatwohnungseinbruchsdiebstahl“, sondern \\n\\n2 \\n\\n3 \\n\\n4 \\n\\n5 \\n\\n\\x0c6 \\n\\n7 \\n\\n8 \\n\\n- 4 - \\n\\nals „schwerer Wohnungseinbruchdiebstahl“ kenntlich zu machen (vgl. BGH, Be-\\n\\nschlüsse vom 19. März 2019 – 3 StR 2/19, NStZ 2019, 674; vom 2. Februar 2021 \\n\\n– 4 StR 509/20, juris Rn. 3). Daneben hat die Überprüfung der Schuld- und Straf-\\n\\naussprüche sowie der Einziehungsentscheidung keinen Rechtsfehler zum Nach-\\n\\nteil des Angeklagten ergeben.  \\n\\n2. Hingegen haben der Maßregelausspruch  und die Adhäsionsentschei-\\n\\ndung keinen Bestand. \\n\\na) Die Unterbringung des Angeklagten in einem psychiatrischen Kranken-\\n\\nhaus erweist sich als durchgreifend rechtsfehlerhaft, weil die Gefährlichkeitsprog-\\n\\nnose nicht tragfähig begründet ist.  \\n\\naa) (1) Nach den Feststellungen des sachverständig beratenen Landge-\\n\\nrichts leidet der zwischen Oktober 2017 und Juli 2020 wegen Körperverletzungs-\\n\\ndelikten,  Diebstahls,  versuchter  Erpressung,  versuchter  Nötigung  und  Beleidi-\\n\\ngung mehrfach verurteilte Angeklagte, gegen den aufgrund dieser Verurteilungen \\n\\nbis zum 4. Juni 2021 eine Einheitsjugendstrafe von drei Jahren und fünf Monaten \\n\\nvollstreckt  wurde,  an  einer  flukturierenden  paranoiden  Schizophrenie  (ICD-10 \\n\\nF20.0). Bei dem Angeklagten zeigte sich, schon 2018 beginnend, ein wahnhaftes \\n\\nGeschehen, das in erster Linie aus einem Beeinträchtigungs-, mitunter auch ei-\\n\\nnem Verfolgungswahn bestand. Der Angeklagte fühlte sich mitunter gelenkt; er \\n\\nglaubte, man könne seine Gedanken lesen. Er erlebte akustische und Leibhallu-\\n\\nzinationen. \\n\\n9 \\n\\n(a) Zu der Anlasstat hat die Strafkammer folgende Feststellungen getrof-\\n\\nfen:  \\n\\n\\x0c- 5 - \\n\\n10 \\n\\nAm 11. März 2022 bat der Angeklagte den Sicherheitsmitarbeiter der von \\n\\nihm bewohnten Gemeinschaftsunterkunft, ihm die Tür zu seinem Zimmer aufzu-\\n\\nschließen. Der Zeuge leistete der Bitte Folge und wollte gerade die Tür öffnen, \\n\\nals der Angeklagte aufgrund einer akustischen Halluzination davon ausging, der \\n\\nZeuge habe ihn beleidigt. Aus diesem Grund schlug er den Zeugen − für diesen \\n\\nvöllig unerwartet − mit der Faust wuchtig auf den Hinterkopf. Der Zeuge ging zu \\n\\nBoden und war mehrere Sekunden so benommen, dass er nichts mehr sehen \\n\\nkonnte.  Er verspürte  starke Schmerzen.  Als er wieder zu  sich  kam,  brachte  er \\n\\nden Angeklagten zu Boden, um sich vor weiteren potentiellen Angriffen zu schüt-\\n\\nzen. Der Angeklagte wehrte sich und biss den Zeugen in den rechten Zeigefinger, \\n\\nwodurch dieser eine blutende Wunde und Schmerzen erlitt.  \\n\\n11 \\n\\nDie  Einsichtsfähigkeit  des  Angeklagten  war  zum  Zeitpunkt  der  Tat  auf-\\n\\ngrund eines akuten Schubs der paranoiden Schizophrenie vollständig aufgeho-\\n\\nben (§ 20 StGB).  \\n\\n12 \\n\\n(b) Das Landgericht ist, dem Sachverständigen folgend, davon ausgegan-\\n\\ngen, dass bei dem Angeklagten auch in Zukunft erhebliche Taten aus dem Be-\\n\\nreich der Aggressions- und Gewaltdelikte zu erwarten seien. Er sei bereits erheb-\\n\\nlich strafrechtlich in Erscheinung getreten; die Schwere der von ihm begangenen \\n\\nTaten hätten ab Herbst 2021 bis zu seiner vorläufigen Inhaftierung im April 2022 \\n\\nzugenommen. Es „sei zu befürchten, dass der Angeklagte, sofern er Waffen bei \\n\\nsich führe, diese auch einsetze“. Er habe bereits am 17. Januar 2018 einen Dieb-\\n\\nstahl mit Waffen begangen, indem er ein Küchenmesser bei sich geführt habe. \\n\\nAus der gleichen Vorverurteilung ergebe sich, dass er gegenüber einer Mitarbei-\\n\\nterin des Jobcenters am 23. Januar 2018 geäußert habe, dass er hier alle um-\\n\\nbringe,  wenn  nicht  seinem Begehren  nachgekommen  werde.  Zwar stehe  nicht \\n\\nfest, dass der Angeklagte auch diese Taten aufgrund seiner Schizophrenie be-\\n\\n\\x0c13 \\n\\n14 \\n\\n- 6 - \\n\\ngangen habe. Es zeige aber, dass er durchaus bereit sei, Waffen bzw. zur Ver-\\n\\nletzung  von  Personen  geeignete  Gegenstände  einzusetzen.  Dies  belege  auch \\n\\nseine  Äußerung  gegenüber  dem  Sachverständigen,  er  habe  vor  „Deutsche  zu \\n\\ntöten“ und sich „der Taliban anzuschließen“.  \\n\\nbb) Diese Feststellungen und Wertungen tragen die angeordnete Maßre-\\n\\ngel nicht.  \\n\\n(1) Die  Unterbringung in  einem psychiatrischen  Krankenhaus  nach  § 63 \\n\\nStGB kommt nur in Betracht, wenn eine Gesamtwürdigung des Täters und seiner \\n\\nTat(en)  ergibt,  dass  von  ihm  infolge  seines  fortdauernden  Zustands  mit  einer \\n\\nWahrscheinlichkeit höheren Grades erhebliche rechtswidrige Taten zu erwarten \\n\\nsind, durch welche die Opfer seelisch oder körperlich erheblich geschädigt oder \\n\\nerheblich gefährdet werden oder schwerer wirtschaftlicher Schaden angerichtet \\n\\nwird, und er deshalb für die Allgemeinheit gefährlich ist. Die notwendige Prog-\\n\\nnose ist auf der Grundlage einer umfassenden Würdigung der Persönlichkeit des \\n\\nTäters,  seines  Vorlebens  und  der  von  ihm  begangenen  Anlasstaten  zu  entwi-\\n\\nckeln und hat sich auch darauf zu erstrecken, ob und welche rechtswidrigen Ta-\\n\\nten von dem Täter infolge seines Zustands drohen, wie ausgeprägt das Maß der \\n\\nGefährdung ist (Häufigkeit, Rückfallfrequenz) und welches Gewicht den bedroh-\\n\\nten Rechtsgütern zukommt (st. Rspr.; vgl. etwa BGH, Beschluss vom 22. Novem-\\n\\nber 2022 – 4 StR 242/22, juris Rn. 6 mwN). Neben der konkreten Krankheits- und \\n\\nKriminalitätsentwicklung sind auch die auf die Person des Täters und seine kon-\\n\\nkrete Lebenssituation bezogenen Risikofaktoren, die eine individuelle krankheits-\\n\\nbedingte Disposition zur Begehung von Straftaten jenseits der Anlasstaten bele-\\n\\ngen können, einzustellen (vgl. BGH, Beschluss vom 3. Dezember 2020 – 4 StR \\n\\n317/20, StV 2021, 245, 246). \\n\\n\\x0c- 7 - \\n\\n15 \\n\\n(2) An diesen Anforderungen gemessen, erweist sich die der Gefahren-\\n\\nprognose  zugrundeliegende  Abwägung  der  Strafkammer  als  defizitär.  Sie  ist \\n\\nzwar  im  Ausgangspunkt  zutreffend  davon  ausgegangen,  dass  es  sich  bei  der \\n\\nvom  Angeklagten  am  11. März  2022  zum  Nachteil  des  Sicherheitsmitarbeiters \\n\\nder von ihm bewohnten Gemeinschaftsunterkunft im Zuge eines akuten psycho-\\n\\ntischen  Schubs  begangenen  Körperverletzung  um  eine  erhebliche  Straftat  im \\n\\nSinne des § 63 Satz 1 StGB handelt. Ihre Begründung zur Gefährlichkeitsprog-\\n\\nnose steht indes im Widerspruch zur Rechtsprechung des Bundesgerichtshofs, \\n\\nnach der die in dem Urteil zu früheren Taten getroffenen Feststellungen, auf die \\n\\ndas Tatgericht seine Gefährlichkeitsprognose ebenfalls stützt, belegen müssen, \\n\\ndass auch diese Taten auf der Erkrankung des Täters beruhten (st. Rspr.; vgl. \\n\\netwa BGH, Beschlüsse vom 19. Januar 2021– 4 StR 449/20, juris Rn. 20; vom \\n\\n7. September  2021  – 1 StR  255/21,  juris  Rn. 10;  vom  15. Mai  2023  – 6 StR \\n\\n146/23,  NStZ-RR  2023,  201,  202;  vom  15. August  2023  – 5 StR  302/23,  juris \\n\\nRn. 15). \\n\\n16 \\n\\nDer Senat kann offenlassen, ob dieser Rechtsprechung uneingeschränkt \\n\\nzu folgen ist oder ob nicht auch im Zuge der umfassenden Würdigung der Per-\\n\\nsönlichkeit des Täters einschließlich seines Vorlebens aus einer Vordelinquenz \\n\\nBedingungsfaktoren für seine Gefährlichkeit abgeleitet werden können, zu denen \\n\\ndie  Störung  noch  hinzutritt  (vgl.  hierzu  BGH,  Beschluss  vom  15. August  2023 \\n\\n– 5 StR 302/23, juris Rn. 15; LK-StGB/Cirener, 13. Aufl., § 63 Rn. 130). Denn die \\n\\nStrafkammer hat hier zum einen maßgeblich auf die Vordelinquenz und die „Pro-\\n\\ngredienz der Straftaten“ und damit gerade nicht im Zuge einer umfassenden Ge-\\n\\nsamtbetrachtung auf die Täterpersönlichkeit abgestellt. Zum anderen belegen die \\n\\nFeststellungen  weder,  dass  die  „Schwere“  der  vom  Angeklagten  begangenen \\n\\nStraftaten ab Herbst 2021 bis zu seiner vorläufigen Verhaftung im April 2022 zu-\\n\\ngenommen hat, noch, dass der Angeklagte bereit sei „Waffen bzw. zur Verlet-\\n\\n\\x0c- 8 - \\n\\nzung von Personen geeignete Gegenstände einzusetzen“. Soweit der Sachver-\\n\\nständige, dem die Strafkammer sich anschließt, diese Progredienz auch mit dem \\n\\nAngriff auf einen Mithäftling, der „wohl psychotisch bedingt“ gewesen sei, recht-\\n\\nfertigt, fehlt es bereits an einem entsprechenden Tatnachweis. Den Ladendieb-\\n\\nstahl, den der Angeklagte am 17. Januar 2018 ausweislich der Vorverurteilung in \\n\\nvoll schuldfähigem Zustand beging und bei dem er ein Küchenmesser in der Ta-\\n\\nsche mitführte, das er beim Hinausgehen auf das Warenband legte und dort zu-\\n\\nrückließ, belegt nicht, dass der Angeklagte bereit war, dieses zur Verletzung von \\n\\nPersonen einzusetzen. \\n\\n17 \\n\\nAuch  die  nicht  näher  erläuterte  Äußerung  des  Angeklagten  gegenüber \\n\\ndem Sachverständigen, er habe vor „Deutsche zu töten“ und sich „der Taliban \\n\\nanzuschließen“,  ist  nicht  geeignet,  dessen  psychotisch  bedingte  Gefährlichkeit \\n\\nzu belegen. Die Urteilsgründe verhalten sich weder zum Grad der Konkretisie-\\n\\nrung dieser Ankündigung noch zu deren psychotischer Ursache. Zu dem in der \\n\\nGefangenenpersonalakte  anklingenden  Vorfall  vom  2. Juni  2022,  wonach  der \\n\\nAngeklagte mehrfach eine Rasierklinge über das Gesicht eines Mithäftlings ge-\\n\\nzogen und geäußert habe, dass er die Tat begangen habe, um sich zu therapie-\\n\\nren, seine Lunge brauche Luft, er sei ein Taliban und sei nach Deutschland ge-\\n\\nkommen, um Menschen umzubringen, hat die Strafkammer keine Feststellungen \\n\\ngetroffen. Zudem konnte der Sachverständige, augenscheinlich allein aufgrund \\n\\ndes Eintrags in der Gefangenenpersonalakte, lediglich diagnostizieren, der An-\\n\\ngriff  sei „wohl auch psychotisch  bedingt“.  Der notwendige  Rückschluss  auf  die \\n\\nstörungsbedingte Gefährlichkeit bleibt damit vage.  \\n\\n18 \\n\\nb) Der Adhäsionsausspruch unterfällt ebenfalls der Aufhebung. Der Gene-\\n\\nralbundesanwalt hat hierzu in seiner Zuschrift zutreffend ausgeführt:  \\n\\n„Das Landgericht war rechtlich gehindert, gegen den Angeklagten ein An-\\nerkenntnisurteil gemäß § 406 Abs. 2 StPO zu erlassen, weil die von Amts \\n\\n\\x0c- 9 - \\n\\nwegen  zu  prüfenden  Sachurteilsvoraussetzungen  (vgl.  BGH,  Beschluss \\nvom 25. September 2019 – 4 StR 383/19, juris Rn. 3) nicht vorlagen. Zwar \\ngenügt  der  –   ordnungsgemäß  zugestellte  (Bd. VIII,  Bl. 435 ff) –  Adhäsi-\\nonsantrag (Bd. VIII, Bl. 431) noch der inhaltlichen Anforderung des § 404 \\nAbs. 1  Satz 2  StPO,  weil  darin  Gegenstand  und  Grund  des  geltend  ge-\\nmachten  Schadensersatzanspruchs  trotz  der  fehlenden  Angaben  des \\nSchädigungsdatums hinreichend bestimmt bezeichnet werden (vgl. BGH, \\nBeschlüsse vom 26. Mai 2021 – 4 StR 476/20, juris Rn. 2; vom 22. Okto-\\nber 2013 – 4 StR 368/13, NStZ-RR 2014, 90). Der Antrag ist jedoch unzu-\\nlässig,  weil  er nicht  von  einem  berechtigten Vertreter der Verletzten  ge-\\nstellt  worden  ist.  Verletzter  der  vom  Angeklagten  im  Fall  II. 5  verübten \\nSachbeschädigung  ist  die  Sparkasse  A.             .  Diese  ist  als  An- \\nstalt des öffentlichen Rechts rechtsfähig (§ 1 Abs. 2 Satz 5 ThürSpkG) und \\nwird gerichtlich und außergerichtlich vom Vorstand vertreten (§ 15 Abs. 2 \\ndes ThürSpkG). Die Mitglieder des Vorstands haben den Adhäsionsantrag \\njedoch weder unterzeichnet, noch ist zu erkennen, dass sie die Prozess-\\nführung nachträglich genehmigt hätten.“ \\n\\n19 \\n\\n3. Im Umfang der Aufhebung bedarf die Sache – naheliegenderweise un-\\n\\nter Heranziehung eines anderen psychiatrischen Sachverständigen – neuer Ver-\\n\\nhandlung und Entscheidung. Der aufgezeigte Rechtsfehler lässt die rechtsfehler-\\n\\nfreien Feststellungen zur Schuldfähigkeit, die hierauf fußenden Freisprüche des \\n\\nAngeklagten in den Fällen VI. 1 und VI. 2 der Urteilsgründe sowie die hierzu ge-\\n\\ntroffene Feststellung als mögliche Anlasstat einer Maßregel unberührt. Hingegen \\n\\nunterfallen die weiteren Feststellungen zum Maßregelausspruch der Aufhebung \\n\\n(§ 353  Abs. 2  StPO). Das  nunmehr  zur Entscheidung  berufene Tatgericht  wird \\n\\ninsbesondere gehalten sein, die Grundlagen des Eintrags in der Gefangenenper-\\n\\nsonalakte zu dem dort beschriebenen Vorfall vom 2. Juni 2022 aufzuklären. Es \\n\\nwird auch Gelegenheit haben, die Entwicklung der Erkrankung des Angeklagten \\n\\nwährend der einstweiligen Unterbringung über die zeitlich limitierte Betrachtung  \\n\\n\\x0c- 10 - \\n\\nim angefochtenen Urteil hinaus – typischerweise durch Vernehmung des behan-\\n\\ndelnden Arztes – aufzuklären und in die Gesamtbetrachtung einzubeziehen (vgl. \\n\\nBGH, Beschluss vom 20. Juni 2019 – 5 StR 208/19, NJW 2019, 2713, 2714). \\n\\nAppl \\n\\nMeyberg \\n\\nGrube \\n\\nSchmidt \\n\\nLutz \\n\\nVorinstanz: \\n\\nLandgericht Erfurt, 12.04.2023 - 8 KLs 572 Js 11300/22 \\n\\n \\n \\n \\n \\n \\n \\n \\n \\n\\x0c'"
      ]
     },
     "execution_count": 18,
     "metadata": {},
     "output_type": "execute_result"
    }
   ],
   "source": [
    "extract_text(abfs.open(f\"{CONTAINER_NAME}/2_str_341-23.pdf\"))"
   ]
  },
  {
   "cell_type": "code",
   "execution_count": null,
   "metadata": {},
   "outputs": [],
   "source": []
  }
 ],
 "metadata": {
  "kernelspec": {
   "display_name": "bghinsights",
   "language": "python",
   "name": "python3"
  },
  "language_info": {
   "codemirror_mode": {
    "name": "ipython",
    "version": 3
   },
   "file_extension": ".py",
   "mimetype": "text/x-python",
   "name": "python",
   "nbconvert_exporter": "python",
   "pygments_lexer": "ipython3",
   "version": "3.10.14"
  }
 },
 "nbformat": 4,
 "nbformat_minor": 2
}
